{
  "nbformat": 4,
  "nbformat_minor": 0,
  "metadata": {
    "colab": {
      "name": "Learn_numpy.ipynb",
      "provenance": [],
      "collapsed_sections": []
    },
    "kernelspec": {
      "name": "python3",
      "display_name": "Python 3"
    },
    "language_info": {
      "name": "python"
    }
  },
  "cells": [
    {
      "cell_type": "code",
      "execution_count": 1,
      "metadata": {
        "colab": {
          "base_uri": "https://localhost:8080/"
        },
        "id": "b1iPIBL8JrfH",
        "outputId": "7ff80034-b237-4074-acb7-0a54e89abada"
      },
      "outputs": [
        {
          "output_type": "stream",
          "name": "stdout",
          "text": [
            "Mounted at /content/drive\n"
          ]
        }
      ],
      "source": [
        "from google.colab import drive # Import a library named google.colab\n",
        "drive.mount('/content/drive', force_remount=True) # mount the content to the directory `/content/drive`"
      ]
    },
    {
      "cell_type": "code",
      "source": [
        "import numpy as np"
      ],
      "metadata": {
        "id": "CeQVckifPPca"
      },
      "execution_count": 27,
      "outputs": []
    },
    {
      "cell_type": "markdown",
      "source": [
        "###1. 创建numpy数组 </br>\n",
        "1.1 使用列表创建numpy数组,然后将其转换为numpy数组。"
      ],
      "metadata": {
        "id": "Di8-lekJPJY_"
      }
    },
    {
      "cell_type": "code",
      "source": [
        "my_list = [0,1,2,3]\n",
        "my_array = np.array(my_list)\n",
        "my_array"
      ],
      "metadata": {
        "colab": {
          "base_uri": "https://localhost:8080/"
        },
        "id": "deePkM0UPJDb",
        "outputId": "fd9850d6-170d-4356-c825-cf63fcbd0dcd"
      },
      "execution_count": 10,
      "outputs": [
        {
          "output_type": "execute_result",
          "data": {
            "text/plain": [
              "array([0, 1, 2, 3])"
            ]
          },
          "metadata": {},
          "execution_count": 10
        }
      ]
    },
    {
      "cell_type": "markdown",
      "source": [
        "####1.2 使用内置函数创建numpy数组。\n",
        "np.arange(begin,end,step)。终点不包括。"
      ],
      "metadata": {
        "id": "AFjMoRRWfqiT"
      }
    },
    {
      "cell_type": "code",
      "source": [
        "np.arange(0, 100)"
      ],
      "metadata": {
        "colab": {
          "base_uri": "https://localhost:8080/"
        },
        "id": "ZLsegPkpfsBF",
        "outputId": "61845cee-083e-4775-84cd-6f853395b477"
      },
      "execution_count": 4,
      "outputs": [
        {
          "output_type": "execute_result",
          "data": {
            "text/plain": [
              "array([ 0,  1,  2,  3,  4,  5,  6,  7,  8,  9, 10, 11, 12, 13, 14, 15, 16,\n",
              "       17, 18, 19, 20, 21, 22, 23, 24, 25, 26, 27, 28, 29, 30, 31, 32, 33,\n",
              "       34, 35, 36, 37, 38, 39, 40, 41, 42, 43, 44, 45, 46, 47, 48, 49, 50,\n",
              "       51, 52, 53, 54, 55, 56, 57, 58, 59, 60, 61, 62, 63, 64, 65, 66, 67,\n",
              "       68, 69, 70, 71, 72, 73, 74, 75, 76, 77, 78, 79, 80, 81, 82, 83, 84,\n",
              "       85, 86, 87, 88, 89, 90, 91, 92, 93, 94, 95, 96, 97, 98, 99])"
            ]
          },
          "metadata": {},
          "execution_count": 4
        }
      ]
    },
    {
      "cell_type": "code",
      "source": [
        "np.arange(0,100,2)"
      ],
      "metadata": {
        "colab": {
          "base_uri": "https://localhost:8080/"
        },
        "id": "VYYchMlphJPC",
        "outputId": "5b6f7d90-f676-4b22-a086-de9268031ffc"
      },
      "execution_count": 5,
      "outputs": [
        {
          "output_type": "execute_result",
          "data": {
            "text/plain": [
              "array([ 0,  2,  4,  6,  8, 10, 12, 14, 16, 18, 20, 22, 24, 26, 28, 30, 32,\n",
              "       34, 36, 38, 40, 42, 44, 46, 48, 50, 52, 54, 56, 58, 60, 62, 64, 66,\n",
              "       68, 70, 72, 74, 76, 78, 80, 82, 84, 86, 88, 90, 92, 94, 96, 98])"
            ]
          },
          "metadata": {},
          "execution_count": 5
        }
      ]
    },
    {
      "cell_type": "markdown",
      "source": [
        "####1.3 使用内置函数创建numpy数组。\n",
        "np.linspace(begin,end,cnt),创建线性均匀间隔的数组。终点包括。\n"
      ],
      "metadata": {
        "id": "14RBalH_hO1A"
      }
    },
    {
      "cell_type": "code",
      "source": [
        "np.linspace(1, 20, 10)"
      ],
      "metadata": {
        "colab": {
          "base_uri": "https://localhost:8080/"
        },
        "id": "HWOFssaChxvr",
        "outputId": "f0f8728b-d302-4f0d-9743-e3b6c97959b2"
      },
      "execution_count": 6,
      "outputs": [
        {
          "output_type": "execute_result",
          "data": {
            "text/plain": [
              "array([ 1.        ,  3.11111111,  5.22222222,  7.33333333,  9.44444444,\n",
              "       11.55555556, 13.66666667, 15.77777778, 17.88888889, 20.        ])"
            ]
          },
          "metadata": {},
          "execution_count": 6
        }
      ]
    },
    {
      "cell_type": "markdown",
      "source": [
        "####1.4 随机内置函数创建随机数组。\n",
        "np.random.randint函数。它以起点，终点(数组中未包含)和形状的大小(不担心，稍后我们将对其进行研究)作为输入。"
      ],
      "metadata": {
        "id": "lpjuvPsWh_mE"
      }
    },
    {
      "cell_type": "code",
      "source": [
        "np.random.randint(1, 5, (3,3))"
      ],
      "metadata": {
        "colab": {
          "base_uri": "https://localhost:8080/"
        },
        "id": "tqo4T3_-iklb",
        "outputId": "6f499ef9-7a55-4a51-82a9-888d1dee8e51"
      },
      "execution_count": 7,
      "outputs": [
        {
          "output_type": "execute_result",
          "data": {
            "text/plain": [
              "array([[4, 2, 3],\n",
              "       [4, 4, 2],\n",
              "       [4, 3, 4]])"
            ]
          },
          "metadata": {},
          "execution_count": 7
        }
      ]
    },
    {
      "cell_type": "markdown",
      "source": [
        "使用随机数生成随机数组前，可以确定random使用的种子。使用np.random.seed()"
      ],
      "metadata": {
        "id": "qkCKk-0oi0mO"
      }
    },
    {
      "cell_type": "code",
      "source": [
        "np.random.seed(12)\n",
        "array1 = np.random.randint(0, 10, 20)\n",
        "array1"
      ],
      "metadata": {
        "colab": {
          "base_uri": "https://localhost:8080/"
        },
        "id": "P7OrOlAvjdS2",
        "outputId": "77432893-081b-49c8-d1c8-faae31649b6c"
      },
      "execution_count": 9,
      "outputs": [
        {
          "output_type": "execute_result",
          "data": {
            "text/plain": [
              "array([6, 1, 2, 3, 3, 0, 6, 1, 4, 5, 9, 2, 6, 0, 5, 8, 2, 9, 3, 4])"
            ]
          },
          "metadata": {},
          "execution_count": 9
        }
      ]
    },
    {
      "cell_type": "code",
      "source": [
        "np.random.seed(12)\n",
        "array2 = np.random.randint(0, 10, 20)\n",
        "array2"
      ],
      "metadata": {
        "colab": {
          "base_uri": "https://localhost:8080/"
        },
        "id": "RuyStxhPjh0e",
        "outputId": "76f84c57-9666-4218-af5a-c69c7abe6f34"
      },
      "execution_count": 10,
      "outputs": [
        {
          "output_type": "execute_result",
          "data": {
            "text/plain": [
              "array([6, 1, 2, 3, 3, 0, 6, 1, 4, 5, 9, 2, 6, 0, 5, 8, 2, 9, 3, 4])"
            ]
          },
          "metadata": {},
          "execution_count": 10
        }
      ]
    },
    {
      "cell_type": "markdown",
      "source": [
        "####1.5 设置正态(高斯)分布的样本\n",
        "如果我们需要高斯分布的样本，大小为100，均值为0，标准差为1，该怎么办？ 好吧，我们再次使用.random，但是这里我们使用.normal代替.randint！"
      ],
      "metadata": {
        "id": "iWdog-1mmtA3"
      }
    },
    {
      "cell_type": "code",
      "source": [
        "np.random.seed(101)\n",
        "norm_arr = np.random.normal(0, 1, 100)\n",
        "norm_arr"
      ],
      "metadata": {
        "colab": {
          "base_uri": "https://localhost:8080/"
        },
        "id": "ffPWW5SlnFdX",
        "outputId": "2512376c-39ff-44bd-d557-87410117979f"
      },
      "execution_count": 11,
      "outputs": [
        {
          "output_type": "execute_result",
          "data": {
            "text/plain": [
              "array([ 2.70684984e+00,  6.28132709e-01,  9.07969446e-01,  5.03825754e-01,\n",
              "        6.51117948e-01, -3.19318045e-01, -8.48076983e-01,  6.05965349e-01,\n",
              "       -2.01816824e+00,  7.40122057e-01,  5.28813494e-01, -5.89000533e-01,\n",
              "        1.88695309e-01, -7.58872056e-01, -9.33237216e-01,  9.55056509e-01,\n",
              "        1.90794322e-01,  1.97875732e+00,  2.60596728e+00,  6.83508886e-01,\n",
              "        3.02665449e-01,  1.69372293e+00, -1.70608593e+00, -1.15911942e+00,\n",
              "       -1.34840721e-01,  3.90527843e-01,  1.66904636e-01,  1.84501859e-01,\n",
              "        8.07705914e-01,  7.29596753e-02,  6.38787013e-01,  3.29646299e-01,\n",
              "       -4.97104023e-01, -7.54069701e-01, -9.43406403e-01,  4.84751647e-01,\n",
              "       -1.16773316e-01,  1.90175480e+00,  2.38126959e-01,  1.99665229e+00,\n",
              "       -9.93263500e-01,  1.96799505e-01, -1.13664459e+00,  3.66479606e-04,\n",
              "        1.02598415e+00, -1.56597904e-01, -3.15791439e-02,  6.49825833e-01,\n",
              "        2.15484644e+00, -6.10258856e-01, -7.55325340e-01, -3.46418504e-01,\n",
              "        1.47026771e-01, -4.79448039e-01,  5.58769406e-01,  1.02481028e+00,\n",
              "       -9.25874259e-01,  1.86286414e+00, -1.13381716e+00,  6.10477908e-01,\n",
              "        3.86030312e-01,  2.08401853e+00, -3.76518675e-01,  2.30336344e-01,\n",
              "        6.81209293e-01,  1.03512507e+00, -3.11604815e-02,  1.93993231e+00,\n",
              "       -1.00518692e+00, -7.41789705e-01,  1.87124522e-01, -7.32845148e-01,\n",
              "       -1.38292010e+00,  1.48249550e+00,  9.61458156e-01, -2.14121229e+00,\n",
              "        9.92573453e-01,  1.19224064e+00, -1.04677954e+00,  1.29276458e+00,\n",
              "       -1.46751402e+00, -4.94095358e-01, -1.62534735e-01,  4.85808737e-01,\n",
              "        3.92488811e-01,  2.21490685e-01, -8.55196041e-01,  1.54199041e+00,\n",
              "        6.66319321e-01, -5.38234626e-01, -5.68581361e-01,  1.40733825e+00,\n",
              "        6.41805511e-01, -9.05099902e-01, -3.91156627e-01,  1.02829316e+00,\n",
              "       -1.97260510e+00, -8.66885035e-01,  7.20787599e-01, -1.22308204e+00])"
            ]
          },
          "metadata": {},
          "execution_count": 11
        }
      ]
    },
    {
      "cell_type": "markdown",
      "source": [
        "array.mean()求平均值，array.std()求标准差，array_min()求最小值，array_max()求最大值，array_sort()从小到大排序。"
      ],
      "metadata": {
        "id": "4vU7l93poAli"
      }
    },
    {
      "cell_type": "code",
      "source": [
        "print(\"mean: \", norm_arr.mean())\n",
        "print(\"std: \", norm_arr.std())\n",
        "print(\"min: \", norm_arr.min())\n",
        "print(\"max: \", norm_arr.max())\n",
        "norm_arr.sort()\n",
        "norm_arr"
      ],
      "metadata": {
        "colab": {
          "base_uri": "https://localhost:8080/"
        },
        "id": "AtcQhqHRoTj3",
        "outputId": "279f394c-9f1f-4eb1-a114-119b2b7adb30"
      },
      "execution_count": 15,
      "outputs": [
        {
          "output_type": "stream",
          "name": "stdout",
          "text": [
            "mean:  0.16636988042311196\n",
            "std:  1.0338189430873386\n",
            "min:  -2.1412122910809264\n",
            "max:  2.706849839399938\n"
          ]
        },
        {
          "output_type": "execute_result",
          "data": {
            "text/plain": [
              "array([-2.14121229e+00, -2.01816824e+00, -1.97260510e+00, -1.70608593e+00,\n",
              "       -1.46751402e+00, -1.38292010e+00, -1.22308204e+00, -1.15911942e+00,\n",
              "       -1.13664459e+00, -1.13381716e+00, -1.04677954e+00, -1.00518692e+00,\n",
              "       -9.93263500e-01, -9.43406403e-01, -9.33237216e-01, -9.25874259e-01,\n",
              "       -9.05099902e-01, -8.66885035e-01, -8.55196041e-01, -8.48076983e-01,\n",
              "       -7.58872056e-01, -7.55325340e-01, -7.54069701e-01, -7.41789705e-01,\n",
              "       -7.32845148e-01, -6.10258856e-01, -5.89000533e-01, -5.68581361e-01,\n",
              "       -5.38234626e-01, -4.97104023e-01, -4.94095358e-01, -4.79448039e-01,\n",
              "       -3.91156627e-01, -3.76518675e-01, -3.46418504e-01, -3.19318045e-01,\n",
              "       -1.62534735e-01, -1.56597904e-01, -1.34840721e-01, -1.16773316e-01,\n",
              "       -3.15791439e-02, -3.11604815e-02,  3.66479606e-04,  7.29596753e-02,\n",
              "        1.47026771e-01,  1.66904636e-01,  1.84501859e-01,  1.87124522e-01,\n",
              "        1.88695309e-01,  1.90794322e-01,  1.96799505e-01,  2.21490685e-01,\n",
              "        2.30336344e-01,  2.38126959e-01,  3.02665449e-01,  3.29646299e-01,\n",
              "        3.86030312e-01,  3.90527843e-01,  3.92488811e-01,  4.84751647e-01,\n",
              "        4.85808737e-01,  5.03825754e-01,  5.28813494e-01,  5.58769406e-01,\n",
              "        6.05965349e-01,  6.10477908e-01,  6.28132709e-01,  6.38787013e-01,\n",
              "        6.41805511e-01,  6.49825833e-01,  6.51117948e-01,  6.66319321e-01,\n",
              "        6.81209293e-01,  6.83508886e-01,  7.20787599e-01,  7.40122057e-01,\n",
              "        8.07705914e-01,  9.07969446e-01,  9.55056509e-01,  9.61458156e-01,\n",
              "        9.92573453e-01,  1.02481028e+00,  1.02598415e+00,  1.02829316e+00,\n",
              "        1.03512507e+00,  1.19224064e+00,  1.29276458e+00,  1.40733825e+00,\n",
              "        1.48249550e+00,  1.54199041e+00,  1.69372293e+00,  1.86286414e+00,\n",
              "        1.90175480e+00,  1.93993231e+00,  1.97875732e+00,  1.99665229e+00,\n",
              "        2.08401853e+00,  2.15484644e+00,  2.60596728e+00,  2.70684984e+00])"
            ]
          },
          "metadata": {},
          "execution_count": 15
        }
      ]
    },
    {
      "cell_type": "markdown",
      "source": [
        "####1.6 检查数组的尺寸：arr.ndim()；检查数组的形状：arr.shape()\n",
        "可通过下面的例子分别知道什么事尺寸和形状。"
      ],
      "metadata": {
        "id": "SpUTBHdeo7ia"
      }
    },
    {
      "cell_type": "code",
      "source": [
        "small_arr = np.array([1,2])\n",
        "medium_arr = np.array([[1,2],[3,4],[5,6],[7,8]])\n",
        "big_arr = np.array([[[1,2],[3,4],[5,6],[7,8]],[[1,2],[3,4],[5,6],[7,8]],[[1,2],[3,4],[5,6],[7,8]]])\n",
        "print(\"small ndim: \", small_arr.ndim)\n",
        "print(\"medium ndim: \", medium_arr.ndim)\n",
        "print(\"big ndim: \", big_arr.ndim)\n",
        "print(\"small shape: \", small_arr.shape)\n",
        "print(\"medium shape: \", medium_arr.shape)\n",
        "print(\"big shape: \", big_arr.shape)\n"
      ],
      "metadata": {
        "colab": {
          "base_uri": "https://localhost:8080/"
        },
        "id": "0S3Sk6uJpYOo",
        "outputId": "129489fb-ee2f-4e3d-99c5-63b5c99a0a47"
      },
      "execution_count": 19,
      "outputs": [
        {
          "output_type": "stream",
          "name": "stdout",
          "text": [
            "small ndim:  1\n",
            "medium ndim:  2\n",
            "big ndim:  3\n",
            "small shape:  (2,)\n",
            "medium shape:  (4, 2)\n",
            "big shape:  (3, 4, 2)\n"
          ]
        }
      ]
    },
    {
      "cell_type": "markdown",
      "source": [
        "####1.7 创建零数组：np.zeros()\n",
        "要创建一个在每个索引处都为零的数组，我们需要指定：数组的长度和形状(作为元组)。 如果未指定形状，则默认值为(数组的长度)。</br>\n",
        "输出是浮点值为0的数组。"
      ],
      "metadata": {
        "id": "3sKKPUw7r6BJ"
      }
    },
    {
      "cell_type": "code",
      "source": [
        "zero_arr1 = np.zeros(3)\n",
        "zero_arr2 = np.zeros((3,2))\n",
        "print(zero_arr1)\n",
        "print(zero_arr2)"
      ],
      "metadata": {
        "colab": {
          "base_uri": "https://localhost:8080/"
        },
        "id": "KAlRMDf9sQ66",
        "outputId": "4b28d7d4-2457-4552-eeec-be1ef478defe"
      },
      "execution_count": 21,
      "outputs": [
        {
          "output_type": "stream",
          "name": "stdout",
          "text": [
            "[0. 0. 0.]\n",
            "[[0. 0.]\n",
            " [0. 0.]\n",
            " [0. 0.]]\n"
          ]
        }
      ]
    },
    {
      "cell_type": "markdown",
      "source": [
        "####1.8 创建一数组：np.ones()\n",
        "与.zeros函数一样，此处适用相同的条件。要创建一个在每个索引处都有一个的数组，我们需要指定：数组的长度和形状(作为元组)。 如果未指定形状，则默认值为(数组的长度)。\n",
        "</br>\n",
        "输出是浮点数为1的数组。"
      ],
      "metadata": {
        "id": "DPJ3Jelus0Ym"
      }
    },
    {
      "cell_type": "code",
      "source": [
        "one_arr1 = np.ones(3)\n",
        "one_arr2 = np.ones((3,2))\n",
        "print(one_arr1)\n",
        "print(one_arr2)\n"
      ],
      "metadata": {
        "colab": {
          "base_uri": "https://localhost:8080/"
        },
        "id": "Q9NXdy1otFec",
        "outputId": "e6b89d38-2028-47bb-d3c1-1ac8cb0f04ef"
      },
      "execution_count": 22,
      "outputs": [
        {
          "output_type": "stream",
          "name": "stdout",
          "text": [
            "[1. 1. 1.]\n",
            "[[1. 1.]\n",
            " [1. 1.]\n",
            " [1. 1.]]\n"
          ]
        }
      ]
    },
    {
      "cell_type": "markdown",
      "source": [
        "####1.9 创建全x数组: np.full()\n",
        "O和1可能不是我们可能要使用的唯一数字。 如果我们想创建一个在每个索引处具有数字4的数组怎么办？ 我们可以完全使用full function。首先，我们指定数组的形状，然后指定每个索引处所需的数字。\n",
        "\n"
      ],
      "metadata": {
        "id": "5v1opOx_t1Ot"
      }
    },
    {
      "cell_type": "code",
      "source": [
        "np.full((2,3), 4)"
      ],
      "metadata": {
        "colab": {
          "base_uri": "https://localhost:8080/"
        },
        "id": "21YLPiluuAYK",
        "outputId": "921b244d-aa7d-4088-c850-d58d68ed6a64"
      },
      "execution_count": 23,
      "outputs": [
        {
          "output_type": "execute_result",
          "data": {
            "text/plain": [
              "array([[4, 4, 4],\n",
              "       [4, 4, 4]])"
            ]
          },
          "metadata": {},
          "execution_count": 23
        }
      ]
    },
    {
      "cell_type": "markdown",
      "source": [
        "###2. 处理numpy数组\n",
        "####2.1 算数运算\n",
        "\n",
        "假设我们有两个形状和长度相同的数组，分别称为a和b 。我们可以：</br>\n",
        "取相应索引的总和。</br>\n",
        "在每个索引处添加元素值。</br>\n",
        "这些对减、乘、除同样有效。"
      ],
      "metadata": {
        "id": "fqoUKNoguhq4"
      }
    },
    {
      "cell_type": "code",
      "source": [
        "a = np.random.randint(0, 10, 3)\n",
        "b = np.random.randint(0, 10, 3)\n",
        "print(a)\n",
        "print(b)\n",
        "print(a + b) # addition of two arrays\n",
        "print(a + 1) # adding 1 to each element of a"
      ],
      "metadata": {
        "colab": {
          "base_uri": "https://localhost:8080/"
        },
        "id": "hyYuraJSu5k3",
        "outputId": "a1771cf6-48cc-4c07-d53f-10919e0744a7"
      },
      "execution_count": 25,
      "outputs": [
        {
          "output_type": "stream",
          "name": "stdout",
          "text": [
            "[2 8 9]\n",
            "[6 6 9]\n",
            "[ 8 14 18]\n",
            "[ 3  9 10]\n"
          ]
        }
      ]
    },
    {
      "cell_type": "markdown",
      "source": [
        "####2.2 重塑数组\n",
        "假设我们有一个长度为9的数组。这里的目标是创建一个新数组，其中包含相同的数据，但是具有新的形状！ 让我们选择(3,3)形状。 我们可以使用reshape内置函数。"
      ],
      "metadata": {
        "id": "yXLgViWKxqrG"
      }
    },
    {
      "cell_type": "code",
      "source": [
        "first_arr = np.arange(0,9)\n",
        "print(first_arr)\n",
        "sec_arr = first_arr.reshape(3,3)\n",
        "print(sec_arr)"
      ],
      "metadata": {
        "colab": {
          "base_uri": "https://localhost:8080/"
        },
        "id": "jjoxAJewx2jA",
        "outputId": "382ea8a3-4c86-479f-952a-e3b2b0a5858a"
      },
      "execution_count": 26,
      "outputs": [
        {
          "output_type": "stream",
          "name": "stdout",
          "text": [
            "[0 1 2 3 4 5 6 7 8]\n",
            "[[0 1 2]\n",
            " [3 4 5]\n",
            " [6 7 8]]\n"
          ]
        }
      ]
    },
    {
      "cell_type": "markdown",
      "source": [
        "####2.3 从数组访问特定元素\n",
        "首先，考虑一个2维数组，该数组有5个嵌套数组，每个数组有5个元素。 您可以将此数组作为矩阵放在脑海中。</br>\n",
        "输入mat [0]时，它代表第一个维度和第一个数组(因为0)。\n"
      ],
      "metadata": {
        "id": "aIGadBUQyASo"
      }
    },
    {
      "cell_type": "code",
      "source": [
        "mat = np.arange(0, 25).reshape(5, 5)\n",
        "print(mat)\n",
        "print(mat[0])"
      ],
      "metadata": {
        "colab": {
          "base_uri": "https://localhost:8080/"
        },
        "id": "NeAPPZj_232l",
        "outputId": "d193a3f4-c0b0-4935-9cd9-bd0d0cc3c664"
      },
      "execution_count": 28,
      "outputs": [
        {
          "output_type": "stream",
          "name": "stdout",
          "text": [
            "[[ 0  1  2  3  4]\n",
            " [ 5  6  7  8  9]\n",
            " [10 11 12 13 14]\n",
            " [15 16 17 18 19]\n",
            " [20 21 22 23 24]]\n",
            "[0 1 2 3 4]\n"
          ]
        }
      ]
    },
    {
      "cell_type": "markdown",
      "source": [
        "mat[-1]获取矩阵最后一个数组。\n"
      ],
      "metadata": {
        "id": "PyH5dyIg_RDQ"
      }
    },
    {
      "cell_type": "code",
      "source": [
        "mat[-1]"
      ],
      "metadata": {
        "colab": {
          "base_uri": "https://localhost:8080/"
        },
        "id": "47g3nTAk_RiW",
        "outputId": "2e30e192-4f8c-46d9-9438-591d6d93afb9"
      },
      "execution_count": 29,
      "outputs": [
        {
          "output_type": "execute_result",
          "data": {
            "text/plain": [
              "array([20, 21, 22, 23, 24])"
            ]
          },
          "metadata": {},
          "execution_count": 29
        }
      ]
    },
    {
      "cell_type": "markdown",
      "source": [
        "现在，我们要从该矩阵中获取值0。 使用mat [0]，我们从第一个维度获得第一个数组。 现在使用mat [0,0]表示第二维的矩阵中的元素0。\n",
        "\n"
      ],
      "metadata": {
        "id": "JTx8TjcH_SCj"
      }
    },
    {
      "cell_type": "code",
      "source": [
        "mat[0,0]"
      ],
      "metadata": {
        "colab": {
          "base_uri": "https://localhost:8080/"
        },
        "id": "lJGWL94o_UMO",
        "outputId": "02dc92c5-e7e5-43e4-bbdd-abcc1b33fc29"
      },
      "execution_count": 30,
      "outputs": [
        {
          "output_type": "execute_result",
          "data": {
            "text/plain": [
              "0"
            ]
          },
          "metadata": {},
          "execution_count": 30
        }
      ]
    },
    {
      "cell_type": "markdown",
      "source": [
        "获得第三列：当我们要访问所有元素时，我们可以使用符号：。 因此，这里我们说从第一个维度开始，我想要一切，从第二个维度开始，我只想要第三个元素。\n",
        "\n"
      ],
      "metadata": {
        "id": "RTSLiSRm_Ufe"
      }
    },
    {
      "cell_type": "code",
      "source": [
        "mat[:, 2]"
      ],
      "metadata": {
        "colab": {
          "base_uri": "https://localhost:8080/"
        },
        "id": "34Zfr3Pp_WRI",
        "outputId": "13aecfc8-924f-4fc5-bb7c-6ae55aeac9ef"
      },
      "execution_count": 31,
      "outputs": [
        {
          "output_type": "execute_result",
          "data": {
            "text/plain": [
              "array([ 2,  7, 12, 17, 22])"
            ]
          },
          "metadata": {},
          "execution_count": 31
        }
      ]
    },
    {
      "cell_type": "markdown",
      "source": [
        "获得第二排：从第一个维度开始只要第二个数组，从第二个维度开始，要一切。 将这两部分结合在一起，剩下第二排。\n",
        "\n"
      ],
      "metadata": {
        "id": "BXxR04td_X0E"
      }
    },
    {
      "cell_type": "code",
      "source": [
        "mat[1,:]"
      ],
      "metadata": {
        "colab": {
          "base_uri": "https://localhost:8080/"
        },
        "id": "0zvP5Y4v_ZQ9",
        "outputId": "8067ede6-6b12-44fe-d1ff-89a1ac4c042e"
      },
      "execution_count": 32,
      "outputs": [
        {
          "output_type": "execute_result",
          "data": {
            "text/plain": [
              "array([5, 6, 7, 8, 9])"
            ]
          },
          "metadata": {},
          "execution_count": 32
        }
      ]
    },
    {
      "cell_type": "markdown",
      "source": [
        "获得切片：在这里，我们要获取矩阵的一部分。 假设我们想要一个3x3矩阵，其值位于原始矩阵的左上角。 我们可以这样做：\n",
        "\n"
      ],
      "metadata": {
        "id": "WV1I9iVo_Zuu"
      }
    },
    {
      "cell_type": "code",
      "source": [
        "mat[0:3, 0:3]"
      ],
      "metadata": {
        "colab": {
          "base_uri": "https://localhost:8080/"
        },
        "id": "44Zj4ibA_aI5",
        "outputId": "494bfa67-b25b-4ec9-bdd6-5948bc424c9f"
      },
      "execution_count": 33,
      "outputs": [
        {
          "output_type": "execute_result",
          "data": {
            "text/plain": [
              "array([[ 0,  1,  2],\n",
              "       [ 5,  6,  7],\n",
              "       [10, 11, 12]])"
            ]
          },
          "metadata": {},
          "execution_count": 33
        }
      ]
    },
    {
      "cell_type": "markdown",
      "source": [
        "masking: 如果我们要指定一些限制，则遮罩很有用。 假设我们只希望矩阵中的值小于5。\n",
        "\n"
      ],
      "metadata": {
        "id": "A1_or4yo_bsX"
      }
    },
    {
      "cell_type": "code",
      "source": [
        "mat < 5"
      ],
      "metadata": {
        "colab": {
          "base_uri": "https://localhost:8080/"
        },
        "id": "pnZf-119_dG5",
        "outputId": "057d89b6-8a59-405c-cbfd-23167a9d91d5"
      },
      "execution_count": 34,
      "outputs": [
        {
          "output_type": "execute_result",
          "data": {
            "text/plain": [
              "array([[ True,  True,  True,  True,  True],\n",
              "       [False, False, False, False, False],\n",
              "       [False, False, False, False, False],\n",
              "       [False, False, False, False, False],\n",
              "       [False, False, False, False, False]])"
            ]
          },
          "metadata": {},
          "execution_count": 34
        }
      ]
    },
    {
      "cell_type": "markdown",
      "source": [
        "masking中要获取实际值，而不是具有布尔值的数组，我们可以这样做：\n",
        "\n"
      ],
      "metadata": {
        "id": "9Lyx9Otl_dZZ"
      }
    },
    {
      "cell_type": "code",
      "source": [
        "my_filter = mat < 5\n",
        "mat[my_filter]"
      ],
      "metadata": {
        "colab": {
          "base_uri": "https://localhost:8080/"
        },
        "id": "cT8OGDCDvtns",
        "outputId": "f2a63956-fd27-4051-8ca0-bf7c3a30e6cb"
      },
      "execution_count": 38,
      "outputs": [
        {
          "output_type": "execute_result",
          "data": {
            "text/plain": [
              "array([0, 1, 2, 3, 4])"
            ]
          },
          "metadata": {},
          "execution_count": 38
        }
      ]
    }
  ]
}