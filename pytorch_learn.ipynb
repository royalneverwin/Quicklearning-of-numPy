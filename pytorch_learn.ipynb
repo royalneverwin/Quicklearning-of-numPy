{
  "nbformat": 4,
  "nbformat_minor": 0,
  "metadata": {
    "colab": {
      "name": "pytorch_learn.ipynb",
      "provenance": [],
      "collapsed_sections": []
    },
    "kernelspec": {
      "name": "python3",
      "display_name": "Python 3"
    },
    "language_info": {
      "name": "python"
    },
    "accelerator": "GPU"
  },
  "cells": [
    {
      "cell_type": "code",
      "source": [
        "from google.colab import drive\n",
        "drive.mount('/content/drive')"
      ],
      "metadata": {
        "colab": {
          "base_uri": "https://localhost:8080/"
        },
        "id": "Apfu_ZlVOGhx",
        "outputId": "16452a96-d3cf-4822-a8a2-d7eabad7d27a"
      },
      "execution_count": 1,
      "outputs": [
        {
          "output_type": "stream",
          "name": "stdout",
          "text": [
            "Mounted at /content/drive\n"
          ]
        }
      ]
    },
    {
      "cell_type": "markdown",
      "source": [
        "###1. Tensor Constructor\n",
        "from list/numPy array"
      ],
      "metadata": {
        "id": "qIq_Q6L3NvBy"
      }
    },
    {
      "cell_type": "code",
      "source": [
        "import torch\n",
        "import numpy as np\n",
        "x = torch.tensor([[1,1],[2,2]])\n",
        "y = torch.from_numpy(np.array([[1,1], [2,2]]))\n",
        "print(x)\n",
        "print(y)"
      ],
      "metadata": {
        "colab": {
          "base_uri": "https://localhost:8080/"
        },
        "id": "2gClSR1tPqLE",
        "outputId": "2161cd85-dc19-4db6-9bab-99221ea90103"
      },
      "execution_count": 2,
      "outputs": [
        {
          "output_type": "stream",
          "name": "stdout",
          "text": [
            "tensor([[1, 1],\n",
            "        [2, 2]])\n",
            "tensor([[1, 1],\n",
            "        [2, 2]])\n"
          ]
        }
      ]
    },
    {
      "cell_type": "markdown",
      "source": [
        "zero tensor"
      ],
      "metadata": {
        "id": "CmKpuK_IQDpr"
      }
    },
    {
      "cell_type": "code",
      "source": [
        "torch.zeros([2,2])"
      ],
      "metadata": {
        "colab": {
          "base_uri": "https://localhost:8080/"
        },
        "id": "aea9QRkBQU8Q",
        "outputId": "2f5169de-cfb4-42a4-d2f3-e4bc103a99ad"
      },
      "execution_count": 3,
      "outputs": [
        {
          "output_type": "execute_result",
          "data": {
            "text/plain": [
              "tensor([[0., 0.],\n",
              "        [0., 0.]])"
            ]
          },
          "metadata": {},
          "execution_count": 3
        }
      ]
    },
    {
      "cell_type": "markdown",
      "source": [
        "unit tensor"
      ],
      "metadata": {
        "id": "IFzcNLyaQcFH"
      }
    },
    {
      "cell_type": "code",
      "source": [
        "torch.ones([2,2,3])"
      ],
      "metadata": {
        "colab": {
          "base_uri": "https://localhost:8080/"
        },
        "id": "IwM4W_lFQauo",
        "outputId": "0e464b28-0de8-439c-ae99-ad94be31cb19"
      },
      "execution_count": 4,
      "outputs": [
        {
          "output_type": "execute_result",
          "data": {
            "text/plain": [
              "tensor([[[1., 1., 1.],\n",
              "         [1., 1., 1.]],\n",
              "\n",
              "        [[1., 1., 1.],\n",
              "         [1., 1., 1.]]])"
            ]
          },
          "metadata": {},
          "execution_count": 4
        }
      ]
    },
    {
      "cell_type": "markdown",
      "source": [
        "###2. Tensor operators\n",
        "Squeeze: remove the specified dimension with length 1. "
      ],
      "metadata": {
        "id": "AKtACjCHQvtR"
      }
    },
    {
      "cell_type": "code",
      "source": [
        "x = torch.zeros([1,2,3])\n",
        "print(x)\n",
        "print(x.shape)\n",
        "x = x.squeeze(0) # remove dimension 0, cause dimension 0.length = 1\n",
        "print(x)\n",
        "print(x.shape)"
      ],
      "metadata": {
        "colab": {
          "base_uri": "https://localhost:8080/"
        },
        "id": "2vpRBlfMQ2ep",
        "outputId": "b66da053-0413-4070-ecd8-83cba38441fd"
      },
      "execution_count": 5,
      "outputs": [
        {
          "output_type": "stream",
          "name": "stdout",
          "text": [
            "tensor([[[0., 0., 0.],\n",
            "         [0., 0., 0.]]])\n",
            "torch.Size([1, 2, 3])\n",
            "tensor([[0., 0., 0.],\n",
            "        [0., 0., 0.]])\n",
            "torch.Size([2, 3])\n"
          ]
        }
      ]
    },
    {
      "cell_type": "markdown",
      "source": [
        "unsqueeze: expand a new dimension."
      ],
      "metadata": {
        "id": "NgCif5q6ReSM"
      }
    },
    {
      "cell_type": "code",
      "source": [
        "x = torch.zeros([2,3])\n",
        "x = x.unsqueeze(1)\n",
        "print(x)\n",
        "print(x.shape)"
      ],
      "metadata": {
        "colab": {
          "base_uri": "https://localhost:8080/"
        },
        "id": "t2RsVhBcRhWJ",
        "outputId": "ecd18353-c8bb-4c57-9b48-c54ae610b6c3"
      },
      "execution_count": 6,
      "outputs": [
        {
          "output_type": "stream",
          "name": "stdout",
          "text": [
            "tensor([[[0., 0., 0.]],\n",
            "\n",
            "        [[0., 0., 0.]]])\n",
            "torch.Size([2, 1, 3])\n"
          ]
        }
      ]
    },
    {
      "cell_type": "markdown",
      "source": [
        "transpose: transpose two specified dimensions.(转置)"
      ],
      "metadata": {
        "id": "D0FrLun8RxtJ"
      }
    },
    {
      "cell_type": "code",
      "source": [
        "x = torch.tensor([[1,2,3], [4,5,6]])\n",
        "print(x)\n",
        "print(x.shape)\n",
        "x = x.transpose(0, 1)\n",
        "print(x)\n",
        "print(x.shape)"
      ],
      "metadata": {
        "colab": {
          "base_uri": "https://localhost:8080/"
        },
        "id": "pSZoqcgwR2qu",
        "outputId": "0babdccd-0ffc-4469-d3b3-58b2b3836de1"
      },
      "execution_count": 7,
      "outputs": [
        {
          "output_type": "stream",
          "name": "stdout",
          "text": [
            "tensor([[1, 2, 3],\n",
            "        [4, 5, 6]])\n",
            "torch.Size([2, 3])\n",
            "tensor([[1, 4],\n",
            "        [2, 5],\n",
            "        [3, 6]])\n",
            "torch.Size([3, 2])\n"
          ]
        }
      ]
    },
    {
      "cell_type": "markdown",
      "source": [
        "cat: concatenate multiple tensors."
      ],
      "metadata": {
        "id": "txjIdYctSdoY"
      }
    },
    {
      "cell_type": "code",
      "source": [
        "x = torch.zeros([2,1,3])\n",
        "y = torch.zeros([2,2,3])\n",
        "z = torch.zeros([2,4,3])\n",
        "w = torch.cat([x,y,z], dim=1)\n",
        "w.shape"
      ],
      "metadata": {
        "colab": {
          "base_uri": "https://localhost:8080/"
        },
        "id": "UVB7gwU7Shld",
        "outputId": "36258e3e-b0ad-4e7f-c437-6bded50f689c"
      },
      "execution_count": 8,
      "outputs": [
        {
          "output_type": "execute_result",
          "data": {
            "text/plain": [
              "torch.Size([2, 7, 3])"
            ]
          },
          "metadata": {},
          "execution_count": 8
        }
      ]
    },
    {
      "cell_type": "markdown",
      "source": [
        "addition</br>subtraction</br>power</br>summation</br>mean(input dtype should be either floating point or complex dtypes)."
      ],
      "metadata": {
        "id": "gQbRVx2HSzDx"
      }
    },
    {
      "cell_type": "code",
      "source": [
        "x = torch.tensor([[1.,2.,3.],[4.,5.,6.]])\n",
        "y = torch.tensor([[1,2,3],[4,5,6]])\n",
        "z = x + y\n",
        "print(z)\n",
        "print(z.shape)\n",
        "z = x - y\n",
        "print(z)\n",
        "print(z.shape)\n",
        "z = pow(x, 2)\n",
        "print(z)\n",
        "print(z.shape)\n",
        "z = x.sum()\n",
        "print(z)\n",
        "z = x.mean()\n",
        "print(z)"
      ],
      "metadata": {
        "colab": {
          "base_uri": "https://localhost:8080/"
        },
        "id": "4T2A4O-9S6n6",
        "outputId": "70979957-5e65-48d3-945e-4527ea88a986"
      },
      "execution_count": 9,
      "outputs": [
        {
          "output_type": "stream",
          "name": "stdout",
          "text": [
            "tensor([[ 2.,  4.,  6.],\n",
            "        [ 8., 10., 12.]])\n",
            "torch.Size([2, 3])\n",
            "tensor([[0., 0., 0.],\n",
            "        [0., 0., 0.]])\n",
            "torch.Size([2, 3])\n",
            "tensor([[ 1.,  4.,  9.],\n",
            "        [16., 25., 36.]])\n",
            "torch.Size([2, 3])\n",
            "tensor(21.)\n",
            "tensor(3.5000)\n"
          ]
        }
      ]
    },
    {
      "cell_type": "markdown",
      "source": [
        "attributes."
      ],
      "metadata": {
        "id": "hGK0VkcHWFYf"
      }
    },
    {
      "cell_type": "code",
      "source": [
        "x = torch.zeros([2,2])\n",
        "print(x.shape)\n",
        "print(x.dtype)"
      ],
      "metadata": {
        "colab": {
          "base_uri": "https://localhost:8080/"
        },
        "id": "VTww5P7PWHmd",
        "outputId": "ca921507-e5b9-444b-89aa-97686584cfb4"
      },
      "execution_count": 10,
      "outputs": [
        {
          "output_type": "stream",
          "name": "stdout",
          "text": [
            "torch.Size([2, 2])\n",
            "torch.float32\n"
          ]
        }
      ]
    },
    {
      "cell_type": "markdown",
      "source": [
        "shape manipulation."
      ],
      "metadata": {
        "id": "A1mEeZfoWM3t"
      }
    },
    {
      "cell_type": "code",
      "source": [
        "x = torch.zeros([2,2])\n",
        "print(x.reshape([4]).shape)\n",
        "print(x.view(-1,4).shape)"
      ],
      "metadata": {
        "colab": {
          "base_uri": "https://localhost:8080/"
        },
        "id": "fgS0jBXEWSzB",
        "outputId": "adc6ac7c-f927-45c7-adc5-e159360d69c3"
      },
      "execution_count": 11,
      "outputs": [
        {
          "output_type": "stream",
          "name": "stdout",
          "text": [
            "torch.Size([4])\n",
            "torch.Size([1, 4])\n"
          ]
        }
      ]
    },
    {
      "cell_type": "markdown",
      "source": [
        "###3. CPU or GPU"
      ],
      "metadata": {
        "id": "aOjgmnv6W_RP"
      }
    },
    {
      "cell_type": "code",
      "source": [
        "x = x.to('cpu')\n",
        "x = x.to('cuda')\n",
        "torch.cuda.is_available()"
      ],
      "metadata": {
        "colab": {
          "base_uri": "https://localhost:8080/"
        },
        "id": "SP6_DFAwXBVk",
        "outputId": "ffc1a145-9443-4e5a-bf8f-7eac232d0ce4"
      },
      "execution_count": 13,
      "outputs": [
        {
          "output_type": "execute_result",
          "data": {
            "text/plain": [
              "True"
            ]
          },
          "metadata": {},
          "execution_count": 13
        }
      ]
    },
    {
      "cell_type": "markdown",
      "source": [
        "###4. Calculate Gradient\n"
      ],
      "metadata": {
        "id": "yO8U-mLRYN4P"
      }
    },
    {
      "cell_type": "code",
      "source": [
        "x = torch.tensor([[1.,0.],[-1.,1.]], requires_grad=True) # 1\n",
        "z = x.pow(2).sum() # 2, object function\n",
        "z.backward() # 3, calculate gradient and store them in x\n",
        "x.grad"
      ],
      "metadata": {
        "colab": {
          "base_uri": "https://localhost:8080/"
        },
        "id": "tyBtJK7MYWFI",
        "outputId": "52840f3b-a78f-4fa5-fe07-d975b9a187f6"
      },
      "execution_count": 14,
      "outputs": [
        {
          "output_type": "execute_result",
          "data": {
            "text/plain": [
              "tensor([[ 2.,  0.],\n",
              "        [-2.,  2.]])"
            ]
          },
          "metadata": {},
          "execution_count": 14
        }
      ]
    },
    {
      "cell_type": "markdown",
      "source": [
        "###5. Overview of the DNN Training Procedure\n",
        "####5.1 Load Data"
      ],
      "metadata": {
        "id": "Ptf1YNG5ZGx2"
      }
    },
    {
      "cell_type": "code",
      "source": [
        "from torch.utils.data import Dataset, DataLoader\n",
        "class MyDataset(Dataset):\n",
        "  def __init__(self, file):\n",
        "    self.data = ...\n",
        "\n",
        "\n",
        "  def __getitem__(self, index):\n",
        "    return self.data[index]\n",
        "\n",
        "\n",
        "  def __len__(self):\n",
        "    return len(self.data)"
      ],
      "metadata": {
        "id": "631gyZSNZTqF"
      },
      "execution_count": 15,
      "outputs": []
    },
    {
      "cell_type": "code",
      "source": [
        "dataset = MyDataset(file)\n",
        "# shuffle is reading data disorderedly. Training is set true, testing is set false.\n",
        "dataloader = DataLoader(dataset, batch_size, shuffle=True) \n"
      ],
      "metadata": {
        "colab": {
          "base_uri": "https://localhost:8080/",
          "height": 186
        },
        "id": "Pka98qmsaO9l",
        "outputId": "c0e4b2ae-f688-42de-9a2b-44e531e93da1"
      },
      "execution_count": 16,
      "outputs": [
        {
          "output_type": "error",
          "ename": "NameError",
          "evalue": "ignored",
          "traceback": [
            "\u001b[0;31m---------------------------------------------------------------------------\u001b[0m",
            "\u001b[0;31mNameError\u001b[0m                                 Traceback (most recent call last)",
            "\u001b[0;32m<ipython-input-16-9693d6293d94>\u001b[0m in \u001b[0;36m<module>\u001b[0;34m()\u001b[0m\n\u001b[0;32m----> 1\u001b[0;31m \u001b[0mdataset\u001b[0m \u001b[0;34m=\u001b[0m \u001b[0mMydataset\u001b[0m\u001b[0;34m(\u001b[0m\u001b[0mfile\u001b[0m\u001b[0;34m)\u001b[0m\u001b[0;34m\u001b[0m\u001b[0;34m\u001b[0m\u001b[0m\n\u001b[0m\u001b[1;32m      2\u001b[0m \u001b[0mdataloader\u001b[0m \u001b[0;34m=\u001b[0m \u001b[0mDataLoader\u001b[0m\u001b[0;34m(\u001b[0m\u001b[0mdataset\u001b[0m\u001b[0;34m,\u001b[0m \u001b[0mbatch_size\u001b[0m\u001b[0;34m,\u001b[0m \u001b[0mshuffle\u001b[0m\u001b[0;34m=\u001b[0m\u001b[0;32mTrue\u001b[0m\u001b[0;34m)\u001b[0m\u001b[0;34m\u001b[0m\u001b[0;34m\u001b[0m\u001b[0m\n",
            "\u001b[0;31mNameError\u001b[0m: name 'file' is not defined"
          ]
        }
      ]
    },
    {
      "cell_type": "markdown",
      "source": [
        "####5.2 torch.nn -- Neural Network Layers\n",
        "Linear layer(Fully-connected layer)"
      ],
      "metadata": {
        "id": "D5t8DUjoGASw"
      }
    },
    {
      "cell_type": "code",
      "source": [
        "layer = torch.nn.Linear(32, 64) # can be any shape but the last dimension must be 32\n",
        "print(layer.weight.shape)\n",
        "print(layer.bias.shape)\n"
      ],
      "metadata": {
        "colab": {
          "base_uri": "https://localhost:8080/"
        },
        "id": "2bHgZFgRGRwB",
        "outputId": "78f33548-fed7-4491-cab9-cb4152c7ca5f"
      },
      "execution_count": 3,
      "outputs": [
        {
          "output_type": "stream",
          "name": "stdout",
          "text": [
            "torch.Size([64, 32])\n",
            "torch.Size([64])\n"
          ]
        }
      ]
    },
    {
      "cell_type": "markdown",
      "source": [
        "####5.3 torch.nn -- Activation Function\n",
        "nn.Sigmoid(), nn.ReLU()"
      ],
      "metadata": {
        "id": "AyUehiumIDoQ"
      }
    },
    {
      "cell_type": "markdown",
      "source": [
        "####5.4 torch.nn -- Loss Functions\n",
        "Mean Square Error(for linear regression):</br>\n",
        "nn.MSELoss()</br>\n",
        "Cross entropy(for classification):</br>\n",
        "nn.CrossEntropyLoss()"
      ],
      "metadata": {
        "id": "sOP8E0ekIb2c"
      }
    },
    {
      "cell_type": "markdown",
      "source": [
        "####5.5 torch.nn -- Build your own neural network"
      ],
      "metadata": {
        "id": "M-u8E4ZbI25e"
      }
    },
    {
      "cell_type": "code",
      "source": [
        "import torch.nn as nn\n",
        "class MyModel(nn.Module):\n",
        "  def __init__(self):\n",
        "    super(MyModel, self).__init__()\n",
        "    self.net == nn.Sequential(\n",
        "        nn.Linear(10, 32),\n",
        "        nn.Sigmoid(),\n",
        "        nn.Linear(32,1)\n",
        "    )\n",
        "    \n",
        "  \n",
        "  def forward(self, x):\n",
        "    return self.net(x)"
      ],
      "metadata": {
        "id": "DE-FFw7iI9LT"
      },
      "execution_count": 5,
      "outputs": []
    },
    {
      "cell_type": "markdown",
      "source": [
        "####5.6 optimizer -- torch.optim\n",
        "optimization algorithms for neural networks(gradient descent)</br>\n",
        "Stochastic Gradient Descent(SGD):</br>\n",
        "torch.optim.SGD(params, lr, momentum = 0) // lr = learning rate\n",
        "\n"
      ],
      "metadata": {
        "id": "HYG9v_yhRbQ7"
      }
    },
    {
      "cell_type": "markdown",
      "source": [
        "####5.7 Nerual Network Training\n"
      ],
      "metadata": {
        "id": "li_CieCuj6FA"
      }
    },
    {
      "cell_type": "code",
      "source": [
        "dataset = MyDataset(file) # read data via dataset\n",
        "tr_set = DataLoader(dataset, 16, shuffle=True) # put dataseet into DataLoader\n",
        "model = MyModel().to(device) # construct model and move to device(cpu/cuda)\n",
        "criterion = nn.MSELoss() # set loss function\n",
        "optimizer = torch.optim.SGD(model.parameters(), 0.1) #set optimizer"
      ],
      "metadata": {
        "colab": {
          "base_uri": "https://localhost:8080/",
          "height": 240
        },
        "id": "3oj68WzdkARX",
        "outputId": "deda2545-ad89-42bf-fdae-c57c0757d820"
      },
      "execution_count": 1,
      "outputs": [
        {
          "output_type": "error",
          "ename": "NameError",
          "evalue": "ignored",
          "traceback": [
            "\u001b[0;31m---------------------------------------------------------------------------\u001b[0m",
            "\u001b[0;31mNameError\u001b[0m                                 Traceback (most recent call last)",
            "\u001b[0;32m<ipython-input-1-141b54268696>\u001b[0m in \u001b[0;36m<module>\u001b[0;34m()\u001b[0m\n\u001b[0;32m----> 1\u001b[0;31m \u001b[0mdataset\u001b[0m \u001b[0;34m=\u001b[0m \u001b[0mMyDataset\u001b[0m\u001b[0;34m(\u001b[0m\u001b[0mfile\u001b[0m\u001b[0;34m)\u001b[0m\u001b[0;34m\u001b[0m\u001b[0;34m\u001b[0m\u001b[0m\n\u001b[0m\u001b[1;32m      2\u001b[0m \u001b[0mtr_set\u001b[0m \u001b[0;34m=\u001b[0m \u001b[0mDataLoader\u001b[0m\u001b[0;34m(\u001b[0m\u001b[0mdataset\u001b[0m\u001b[0;34m,\u001b[0m \u001b[0;36m16\u001b[0m\u001b[0;34m,\u001b[0m \u001b[0mshuffle\u001b[0m\u001b[0;34m=\u001b[0m\u001b[0;32mTrue\u001b[0m\u001b[0;34m)\u001b[0m\u001b[0;34m\u001b[0m\u001b[0;34m\u001b[0m\u001b[0m\n\u001b[1;32m      3\u001b[0m \u001b[0mmodel\u001b[0m \u001b[0;34m=\u001b[0m \u001b[0mMyModel\u001b[0m\u001b[0;34m(\u001b[0m\u001b[0;34m)\u001b[0m\u001b[0;34m.\u001b[0m\u001b[0mto\u001b[0m\u001b[0;34m(\u001b[0m\u001b[0mdevice\u001b[0m\u001b[0;34m)\u001b[0m\u001b[0;34m\u001b[0m\u001b[0;34m\u001b[0m\u001b[0m\n\u001b[1;32m      4\u001b[0m \u001b[0mcriterion\u001b[0m \u001b[0;34m=\u001b[0m \u001b[0mnn\u001b[0m\u001b[0;34m.\u001b[0m\u001b[0mMSELoss\u001b[0m\u001b[0;34m(\u001b[0m\u001b[0;34m)\u001b[0m\u001b[0;34m\u001b[0m\u001b[0;34m\u001b[0m\u001b[0m\n\u001b[1;32m      5\u001b[0m \u001b[0moptimizer\u001b[0m \u001b[0;34m=\u001b[0m \u001b[0mtorch\u001b[0m\u001b[0;34m.\u001b[0m\u001b[0moptim\u001b[0m\u001b[0;34m.\u001b[0m\u001b[0mSGD\u001b[0m\u001b[0;34m(\u001b[0m\u001b[0mmodel\u001b[0m\u001b[0;34m.\u001b[0m\u001b[0mparameters\u001b[0m\u001b[0;34m(\u001b[0m\u001b[0;34m)\u001b[0m\u001b[0;34m,\u001b[0m \u001b[0;36m0.1\u001b[0m\u001b[0;34m)\u001b[0m\u001b[0;34m\u001b[0m\u001b[0;34m\u001b[0m\u001b[0m\n",
            "\u001b[0;31mNameError\u001b[0m: name 'MyDataset' is not defined"
          ]
        }
      ]
    },
    {
      "cell_type": "code",
      "source": [
        "for epoch in range(n_epochs): # iterate n_epochs\n",
        "  model.train() # set model to train mode\n",
        "  for x, y in tr_set: # iterate through the dataLoader\n",
        "      optimizer.zero_grad() # set gradient to zero\n",
        "      x, y = x.to(device), y.to(device) # move data to device(cpu/cuda)\n",
        "      pred = model(x) # forward pass(compute output)\n",
        "      loss = criterion(pred, y) # compute loss\n",
        "      loss.backward() # compute gradient(backpropagation)\n",
        "      optimizer.step() # update model with optimizer\n"
      ],
      "metadata": {
        "id": "t9TTY_zewbsB"
      },
      "execution_count": null,
      "outputs": []
    },
    {
      "cell_type": "markdown",
      "source": [
        "####5.7 Nerual Network Evaluation(Validation Set)"
      ],
      "metadata": {
        "id": "dkeHgLTlxZ9m"
      }
    },
    {
      "cell_type": "code",
      "source": [
        "model.eval() # set model to evaluation mode\n",
        "total_loss = 0 \n",
        "for x, y in dv_set: # iterate through the dataLoader\n",
        "  x, y = x.to(device), y.to(device) # move data to device(cpu/cuda)\n",
        "  with torch.no_grad(): # disable gradient calculation\n",
        "    pred = model(x) # forward pass(compute output)\n",
        "    loss = criterion(pred, y) # compute loss\n",
        "  total_loss += loss.cpu().item() * len(x) # accumulate loss\n",
        "  avg_loss = total_loss / len(dv.set.dataset()) # compute averaged loss"
      ],
      "metadata": {
        "id": "K1RTw0ENxfbo"
      },
      "execution_count": null,
      "outputs": []
    },
    {
      "cell_type": "markdown",
      "source": [
        "####5.8 Nerual NetWork Evaluation(Testing Set)"
      ],
      "metadata": {
        "id": "L330unISyZAP"
      }
    },
    {
      "cell_type": "code",
      "source": [
        "model.eval() # set model to evaluation mode\n",
        "preds = []\n",
        "for x in tt_set: # iterate through the dataLoader\n",
        "  x = x.to(device) # move data to device(cpu/cuda)\n",
        "  with torch.no_grad(): # disable gradient calculation\n",
        "    pred = model(x) # forward pass(compute output)\n",
        "    preds.append(prd.cpu()) # collect prediction\n"
      ],
      "metadata": {
        "id": "H3SxFbnnygje"
      },
      "execution_count": null,
      "outputs": []
    },
    {
      "cell_type": "markdown",
      "source": [
        "####5.9 Save/Load a Nerual Network"
      ],
      "metadata": {
        "id": "T3N4zIEwzG-a"
      }
    },
    {
      "cell_type": "code",
      "source": [
        "torch.save(model.state_dict(), path) # save\n",
        "ckpt = torch.load(path) # load\n",
        "model.load_state_dict(ckpt)"
      ],
      "metadata": {
        "id": "5E2jlKV9zLOi"
      },
      "execution_count": null,
      "outputs": []
    }
  ]
}